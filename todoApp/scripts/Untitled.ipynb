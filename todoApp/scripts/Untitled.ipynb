{
 "cells": [
  {
   "cell_type": "code",
   "execution_count": 1,
   "id": "technical-fairy",
   "metadata": {},
   "outputs": [],
   "source": [
    "def readFromFile(file_name,fileLine):\n",
    "\n",
    "    #locate and open file -------------------------   \n",
    "    file = open(file_name,'r')\n",
    "\n",
    "    #read all lines -----------------------------\n",
    "    for lineNumber , content in enumerate(file):\n",
    "        print(lineNumber,content)\n"
   ]
  },
  {
   "cell_type": "code",
   "execution_count": 3,
   "id": "fewer-welsh",
   "metadata": {},
   "outputs": [
    {
     "name": "stdout",
     "output_type": "stream",
     "text": [
      "0 bake cake\n",
      "\n",
      "1 paint the wall\n",
      "\n",
      "2 go for a walk\n",
      "\n",
      "3 train the dog\n"
     ]
    }
   ],
   "source": [
    "readFromFile(\"testfile.txt\",1)"
   ]
  },
  {
   "cell_type": "code",
   "execution_count": null,
   "id": "perceived-pastor",
   "metadata": {},
   "outputs": [],
   "source": []
  },
  {
   "cell_type": "code",
   "execution_count": null,
   "id": "imperial-dictionary",
   "metadata": {},
   "outputs": [],
   "source": []
  }
 ],
 "metadata": {
  "kernelspec": {
   "display_name": "Python 3.8.10 64-bit",
   "language": "python",
   "name": "python3810jvsc74a57bd0df0893f56f349688326838aaeea0de204df53a132722cbd565e54b24a8fec5f6"
  },
  "language_info": {
   "codemirror_mode": {
    "name": "ipython",
    "version": 3
   },
   "file_extension": ".py",
   "mimetype": "text/x-python",
   "name": "python",
   "nbconvert_exporter": "python",
   "pygments_lexer": "ipython3",
   "version": "3.8.11"
  }
 },
 "nbformat": 4,
 "nbformat_minor": 5
}
